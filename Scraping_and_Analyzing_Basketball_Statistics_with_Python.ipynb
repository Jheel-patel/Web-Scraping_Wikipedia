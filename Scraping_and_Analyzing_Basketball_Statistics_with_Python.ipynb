
    {
      "cell_type": "markdown",
      "metadata": {
        "id": "n1v8NIBIN4IA",
        "colab_type": "text"
      },
      "source": [
        "<left>Figure: following figure from left to right we have <a href='https://en.wikipedia.org/wiki/Michael_Jordan'>Michael Jordan </a>,\n",
        "<a href='https://en.wikipedia.org/wiki/Kobe_Bryant'>Kobe Bryant</a>,\n",
        "<a href='https://en.wikipedia.org/wiki/LeBron_James'>Lebron James</a> and <a href='https://en.wikipedia.org/wiki/Stephen_Curry'>Stephen Curry</a></center> <i>(image source Wikipedia)</i>"
      ]
    },
    {
      "cell_type": "markdown",
      "metadata": {
        "id": "UeLuTH7TN4IH",
        "colab_type": "text"
      },
      "source": [
        "<h2 id=\"Section_1\"> Define a Web Scraping Function  </h2>"
      ]
    },
    {
      "cell_type": "markdown",
      "metadata": {
        "id": "yKu2BRv-N4II",
        "colab_type": "text"
      },
      "source": [
        "In this section, we define the function <code>get_basketball_stats</code>. The function will return a dictionary corresponding to the Regular season statistics of each basketball player scraped from m <a href=\"http://en.wikipedia.org\">en.wikipedia.org</a>. \n",
        "The <a href=\"https://en.wikipedia.org/wiki/Parameter_(computer_programming)\"> Formal Parameter </a> or input  <code> link</code> is going to be the URL of the Wikipedia page for each player. This function will return a  Python dictionary. The keys will be the column names, and the values will be a list that contains a different columns; the element of each list will be a separate row for that column.\n",
        "You don't have to know how the function works just the input in the output. "
      ]
    },
    {
      "cell_type": "code",
      "metadata": {
        "id": "GSvx2BUIN4IK",
        "colab_type": "code",
        "colab": {}
      },
      "source": [
        "import bs4\n",
        "import requests\n",
        "import pandas as pd\n",
        "import numpy as np\n",
        "import boto3"
      ],
      "execution_count": 0,
      "outputs": []
    },
    {
      "cell_type": "code",
      "metadata": {
        "id": "qbEo-BebN4IQ",
        "colab_type": "code",
        "colab": {}
      },
      "source": [
        "def get_basketball_stats(link='https://en.wikipedia.org/wiki/Michael_Jordan'):\n",
        "    # read the webpage \n",
        "    response = requests.get(link)\n",
        "    # create a BeautifulSoup object to parse the HTML  \n",
        "    soup = bs4.BeautifulSoup(response.text, 'html.parser')\n",
        "    # the player stats are defined  with the attribute CSS class set to 'wikitable sortable'; \n",
        "    #therefore we create a tag object \"table\"\n",
        "    table=soup.find(class_='wikitable sortable')\n",
        "\n",
        "    #the headers of the table are the first table row (tr) we create a tag object that has the first row  \n",
        "    headers=table.tr\n",
        "    #the table column names are displayed  as an abbreviation; therefore we find all the abbr tags and returs an Iterator\n",
        "    titles=headers.find_all(\"abbr\")\n",
        "    #we create a dictionary  and pass the table headers as the keys \n",
        "    data = {title['title']:[] for title in titles}\n",
        "    #we will store each column as a list in a dictionary, the header of the column will be the dictionary key \n",
        "\n",
        "    #we iterate over each table row by fining each table tag tr and assign it to the objed\n",
        "    for row in table.find_all('tr')[1:]:\n",
        "    \n",
        "        #we iterate over each cell in the table, as each cell corresponds to a different column we all obtain the correspondin key corresponding the column n \n",
        "        for key,a in zip(data.keys(),row.find_all(\"td\")[2:]):\n",
        "            # we append each elment and strip any extra HTML contnet \n",
        "            data[key].append(''.join(c for c in a.text if (c.isdigit() or c == \".\")))\n",
        "\n",
        "    # we remove extra rows by finding the smallest list     \n",
        "    Min=min([len(x)  for x in data.values()])\n",
        "    #we convert the elements in the key to floats \n",
        "    for key in data.keys():\n",
        "    \n",
        "        data[key]=list(map(lambda x: float(x), data[key][:Min]))\n",
        "       \n",
        "    return data"
      ],
      "execution_count": 0,
      "outputs": []
    },
    {
      "cell_type": "markdown",
      "metadata": {
        "id": "pN-ayNWrN4IW",
        "colab_type": "text"
      },
      "source": [
        "#Web Scraping the data and Converting to Pandas Dataframe"
      ]
    },
    {
      "cell_type": "markdown",
      "metadata": {
        "id": "Y25YPr_bN4IY",
        "colab_type": "text"
      },
      "source": [
        "We use the function <code>get_basketball_stats</code> to extract a Python Dictionary of the player statistics, convert the dictionary to a Python Dataframe."
      ]
    },
    {
      "cell_type": "code",
      "metadata": {
        "id": "LTPUl20XN4Ie",
        "colab_type": "code",
        "colab": {}
      },
      "source": [
        "#Importing libraries\n",
        "\n",
        "import pandas as pd\n",
        "import matplotlib.pyplot as plt\n",
        "from IPython.display import display\n"
      ],
      "execution_count": 0,
      "outputs": []
    },
    {
      "cell_type": "markdown",
      "metadata": {
        "id": "jP9hJmhCN4Ih",
        "colab_type": "text"
      },
      "source": [
        "The list <code>links</code> contain the link the Wikipedia article for each player. The list <code>names</codes> contains the names of each player."
      ]
    },
    {
      "cell_type": "code",
      "metadata": {
        "id": "k1626ae_N4Ii",
        "colab_type": "code",
        "colab": {}
      },
      "source": [
        "links=['https://en.wikipedia.org/wiki/Michael_Jordan'\\\n",
        "       ,'https://en.wikipedia.org/wiki/Kobe_Bryant'\\\n",
        "      ,'https://en.wikipedia.org/wiki/LeBron_James'\\\n",
        "            ,'https://en.wikipedia.org/wiki/Stephen_Curry']\n",
        "names=['Michael Jordan','Kobe Bryant','Lebron James','Stephen Curry']"
      ],
      "execution_count": 0,
      "outputs": []
    },
    {
      "cell_type": "code",
      "metadata": {
        "id": "3K4KH9QNPKtf",
        "colab_type": "code",
        "colab": {}
      },
      "source": [
        "#using the link  \n",
        "\n",
        "michael_jordan_dict=get_basketball_stats('https://en.wikipedia.org/wiki/Michael_Jordan')\n",
        "\n",
        "\n",
        "#using the list\n",
        "\n",
        "\n",
        "michael_jordan_dict=get_basketball_stats(links[0])"
      ],
      "execution_count": 0,
      "outputs": []
    },
    {
      "cell_type": "markdown",
      "metadata": {
        "id": "0S4Mzv-yN4Ip",
        "colab_type": "text"
      },
      "source": [
        "<h5>For each Player create a Python dictionary from the table <b>Regular season table </b>.</h5>"
      ]
    },
    {
      "cell_type": "code",
      "metadata": {
        "id": "Ch0PtuGCN4Ir",
        "colab_type": "code",
        "colab": {
          "base_uri": "https://localhost:8080/",
          "height": 901
        },
        "outputId": "6a0abc80-0872-4739-84d7-802c9f664950"
      },
      "source": [
        "i=0\n",
        "final_dict={}\n",
        "for name in names:\n",
        "    final_dict[name]=pd.DataFrame(get_basketball_stats(links[i]))\n",
        "    i=i+1\n",
        "    print(name)\n",
        "    display(final_dict[name].head(5))"
      ],
      "execution_count": 34,
      "outputs": [
        {
          "output_type": "stream",
          "text": [
            "Michael Jordan\n"
          ],
          "name": "stdout"
        },
        {
          "output_type": "display_data",
          "data": {
            "text/html": [
              "<div>\n",
              "<style scoped>\n",
              "    .dataframe tbody tr th:only-of-type {\n",
              "        vertical-align: middle;\n",
              "    }\n",
              "\n",
              "    .dataframe tbody tr th {\n",
              "        vertical-align: top;\n",
              "    }\n",
              "\n",
              "    .dataframe thead th {\n",
              "        text-align: right;\n",
              "    }\n",
              "</style>\n",
              "<table border=\"1\" class=\"dataframe\">\n",
              "  <thead>\n",
              "    <tr style=\"text-align: right;\">\n",
              "      <th></th>\n",
              "      <th>Games played</th>\n",
              "      <th>Games started</th>\n",
              "      <th>Minutes per game</th>\n",
              "      <th>Field goal percentage</th>\n",
              "      <th>3-point field-goal percentage</th>\n",
              "      <th>Free-throw percentage</th>\n",
              "      <th>Rebounds per game</th>\n",
              "      <th>Assists per game</th>\n",
              "      <th>Steals per game</th>\n",
              "      <th>Blocks per game</th>\n",
              "      <th>Points per game</th>\n",
              "    </tr>\n",
              "  </thead>\n",
              "  <tbody>\n",
              "    <tr>\n",
              "      <th>0</th>\n",
              "      <td>82.0</td>\n",
              "      <td>82.0</td>\n",
              "      <td>38.3</td>\n",
              "      <td>0.515</td>\n",
              "      <td>0.173</td>\n",
              "      <td>0.845</td>\n",
              "      <td>6.5</td>\n",
              "      <td>5.9</td>\n",
              "      <td>2.4</td>\n",
              "      <td>0.8</td>\n",
              "      <td>28.2</td>\n",
              "    </tr>\n",
              "    <tr>\n",
              "      <th>1</th>\n",
              "      <td>18.0</td>\n",
              "      <td>7.0</td>\n",
              "      <td>25.1</td>\n",
              "      <td>0.457</td>\n",
              "      <td>0.167</td>\n",
              "      <td>0.840</td>\n",
              "      <td>3.6</td>\n",
              "      <td>2.9</td>\n",
              "      <td>2.1</td>\n",
              "      <td>1.2</td>\n",
              "      <td>22.7</td>\n",
              "    </tr>\n",
              "    <tr>\n",
              "      <th>2</th>\n",
              "      <td>82.0</td>\n",
              "      <td>82.0</td>\n",
              "      <td>40.0</td>\n",
              "      <td>0.482</td>\n",
              "      <td>0.182</td>\n",
              "      <td>0.857</td>\n",
              "      <td>5.2</td>\n",
              "      <td>4.6</td>\n",
              "      <td>2.9</td>\n",
              "      <td>1.5</td>\n",
              "      <td>37.1</td>\n",
              "    </tr>\n",
              "    <tr>\n",
              "      <th>3</th>\n",
              "      <td>82.0</td>\n",
              "      <td>82.0</td>\n",
              "      <td>40.4</td>\n",
              "      <td>0.535</td>\n",
              "      <td>0.132</td>\n",
              "      <td>0.841</td>\n",
              "      <td>5.5</td>\n",
              "      <td>5.9</td>\n",
              "      <td>3.2</td>\n",
              "      <td>1.6</td>\n",
              "      <td>35.0</td>\n",
              "    </tr>\n",
              "    <tr>\n",
              "      <th>4</th>\n",
              "      <td>81.0</td>\n",
              "      <td>81.0</td>\n",
              "      <td>40.2</td>\n",
              "      <td>0.538</td>\n",
              "      <td>0.276</td>\n",
              "      <td>0.850</td>\n",
              "      <td>8.0</td>\n",
              "      <td>8.0</td>\n",
              "      <td>2.9</td>\n",
              "      <td>0.8</td>\n",
              "      <td>32.5</td>\n",
              "    </tr>\n",
              "  </tbody>\n",
              "</table>\n",
              "</div>"
            ],
            "text/plain": [
              "   Games played  Games started  ...  Blocks per game  Points per game\n",
              "0          82.0           82.0  ...              0.8             28.2\n",
              "1          18.0            7.0  ...              1.2             22.7\n",
              "2          82.0           82.0  ...              1.5             37.1\n",
              "3          82.0           82.0  ...              1.6             35.0\n",
              "4          81.0           81.0  ...              0.8             32.5\n",
              "\n",
              "[5 rows x 11 columns]"
            ]
          },
          "metadata": {
            "tags": []
          }
        },
        {
          "output_type": "stream",
          "text": [
            "Kobe Bryant\n"
          ],
          "name": "stdout"
        },
        {
          "output_type": "display_data",
          "data": {
            "text/html": [
              "<div>\n",
              "<style scoped>\n",
              "    .dataframe tbody tr th:only-of-type {\n",
              "        vertical-align: middle;\n",
              "    }\n",
              "\n",
              "    .dataframe tbody tr th {\n",
              "        vertical-align: top;\n",
              "    }\n",
              "\n",
              "    .dataframe thead th {\n",
              "        text-align: right;\n",
              "    }\n",
              "</style>\n",
              "<table border=\"1\" class=\"dataframe\">\n",
              "  <thead>\n",
              "    <tr style=\"text-align: right;\">\n",
              "      <th></th>\n",
              "      <th>Games played</th>\n",
              "      <th>Games started</th>\n",
              "      <th>Minutes per game</th>\n",
              "      <th>Field goal percentage</th>\n",
              "      <th>3-point field-goal percentage</th>\n",
              "      <th>Free-throw percentage</th>\n",
              "      <th>Rebounds per game</th>\n",
              "      <th>Assists per game</th>\n",
              "      <th>Steals per game</th>\n",
              "      <th>Blocks per game</th>\n",
              "      <th>Points per game</th>\n",
              "    </tr>\n",
              "  </thead>\n",
              "  <tbody>\n",
              "    <tr>\n",
              "      <th>0</th>\n",
              "      <td>71.0</td>\n",
              "      <td>6.0</td>\n",
              "      <td>15.5</td>\n",
              "      <td>0.417</td>\n",
              "      <td>0.375</td>\n",
              "      <td>0.819</td>\n",
              "      <td>1.9</td>\n",
              "      <td>1.3</td>\n",
              "      <td>0.7</td>\n",
              "      <td>0.3</td>\n",
              "      <td>7.6</td>\n",
              "    </tr>\n",
              "    <tr>\n",
              "      <th>1</th>\n",
              "      <td>79.0</td>\n",
              "      <td>1.0</td>\n",
              "      <td>26.0</td>\n",
              "      <td>0.428</td>\n",
              "      <td>0.341</td>\n",
              "      <td>0.794</td>\n",
              "      <td>3.1</td>\n",
              "      <td>2.5</td>\n",
              "      <td>0.9</td>\n",
              "      <td>0.5</td>\n",
              "      <td>15.4</td>\n",
              "    </tr>\n",
              "    <tr>\n",
              "      <th>2</th>\n",
              "      <td>50.0</td>\n",
              "      <td>50.0</td>\n",
              "      <td>37.9</td>\n",
              "      <td>0.465</td>\n",
              "      <td>0.267</td>\n",
              "      <td>0.839</td>\n",
              "      <td>5.3</td>\n",
              "      <td>3.8</td>\n",
              "      <td>1.4</td>\n",
              "      <td>1.0</td>\n",
              "      <td>19.9</td>\n",
              "    </tr>\n",
              "    <tr>\n",
              "      <th>3</th>\n",
              "      <td>66.0</td>\n",
              "      <td>62.0</td>\n",
              "      <td>38.2</td>\n",
              "      <td>0.468</td>\n",
              "      <td>0.319</td>\n",
              "      <td>0.821</td>\n",
              "      <td>6.3</td>\n",
              "      <td>4.9</td>\n",
              "      <td>1.6</td>\n",
              "      <td>0.9</td>\n",
              "      <td>22.5</td>\n",
              "    </tr>\n",
              "    <tr>\n",
              "      <th>4</th>\n",
              "      <td>68.0</td>\n",
              "      <td>68.0</td>\n",
              "      <td>40.9</td>\n",
              "      <td>0.464</td>\n",
              "      <td>0.305</td>\n",
              "      <td>0.853</td>\n",
              "      <td>5.9</td>\n",
              "      <td>5.0</td>\n",
              "      <td>1.7</td>\n",
              "      <td>0.6</td>\n",
              "      <td>28.5</td>\n",
              "    </tr>\n",
              "  </tbody>\n",
              "</table>\n",
              "</div>"
            ],
            "text/plain": [
              "   Games played  Games started  ...  Blocks per game  Points per game\n",
              "0          71.0            6.0  ...              0.3              7.6\n",
              "1          79.0            1.0  ...              0.5             15.4\n",
              "2          50.0           50.0  ...              1.0             19.9\n",
              "3          66.0           62.0  ...              0.9             22.5\n",
              "4          68.0           68.0  ...              0.6             28.5\n",
              "\n",
              "[5 rows x 11 columns]"
            ]
          },
          "metadata": {
            "tags": []
          }
        },
        {
          "output_type": "stream",
          "text": [
            "Lebron James\n"
          ],
          "name": "stdout"
        },
        {
          "output_type": "display_data",
          "data": {
            "text/html": [
              "<div>\n",
              "<style scoped>\n",
              "    .dataframe tbody tr th:only-of-type {\n",
              "        vertical-align: middle;\n",
              "    }\n",
              "\n",
              "    .dataframe tbody tr th {\n",
              "        vertical-align: top;\n",
              "    }\n",
              "\n",
              "    .dataframe thead th {\n",
              "        text-align: right;\n",
              "    }\n",
              "</style>\n",
              "<table border=\"1\" class=\"dataframe\">\n",
              "  <thead>\n",
              "    <tr style=\"text-align: right;\">\n",
              "      <th></th>\n",
              "      <th>Games played</th>\n",
              "      <th>Games started</th>\n",
              "      <th>Minutes per game</th>\n",
              "      <th>Field goal percentage</th>\n",
              "      <th>3-point field-goal percentage</th>\n",
              "      <th>Free-throw percentage</th>\n",
              "      <th>Rebounds per game</th>\n",
              "      <th>Assists per game</th>\n",
              "      <th>Steals per game</th>\n",
              "      <th>Blocks per game</th>\n",
              "      <th>Points per game</th>\n",
              "    </tr>\n",
              "  </thead>\n",
              "  <tbody>\n",
              "    <tr>\n",
              "      <th>0</th>\n",
              "      <td>79.0</td>\n",
              "      <td>79.0</td>\n",
              "      <td>39.5</td>\n",
              "      <td>0.417</td>\n",
              "      <td>0.290</td>\n",
              "      <td>0.754</td>\n",
              "      <td>5.5</td>\n",
              "      <td>5.9</td>\n",
              "      <td>1.6</td>\n",
              "      <td>0.7</td>\n",
              "      <td>20.9</td>\n",
              "    </tr>\n",
              "    <tr>\n",
              "      <th>1</th>\n",
              "      <td>80.0</td>\n",
              "      <td>80.0</td>\n",
              "      <td>42.4</td>\n",
              "      <td>0.472</td>\n",
              "      <td>0.351</td>\n",
              "      <td>0.750</td>\n",
              "      <td>7.4</td>\n",
              "      <td>7.2</td>\n",
              "      <td>2.2</td>\n",
              "      <td>0.7</td>\n",
              "      <td>27.2</td>\n",
              "    </tr>\n",
              "    <tr>\n",
              "      <th>2</th>\n",
              "      <td>79.0</td>\n",
              "      <td>79.0</td>\n",
              "      <td>42.5</td>\n",
              "      <td>0.480</td>\n",
              "      <td>0.335</td>\n",
              "      <td>0.738</td>\n",
              "      <td>7.0</td>\n",
              "      <td>6.6</td>\n",
              "      <td>1.6</td>\n",
              "      <td>0.8</td>\n",
              "      <td>31.4</td>\n",
              "    </tr>\n",
              "    <tr>\n",
              "      <th>3</th>\n",
              "      <td>78.0</td>\n",
              "      <td>78.0</td>\n",
              "      <td>40.9</td>\n",
              "      <td>0.476</td>\n",
              "      <td>0.319</td>\n",
              "      <td>0.698</td>\n",
              "      <td>6.7</td>\n",
              "      <td>6.0</td>\n",
              "      <td>1.6</td>\n",
              "      <td>0.7</td>\n",
              "      <td>27.3</td>\n",
              "    </tr>\n",
              "    <tr>\n",
              "      <th>4</th>\n",
              "      <td>75.0</td>\n",
              "      <td>74.0</td>\n",
              "      <td>40.4</td>\n",
              "      <td>0.484</td>\n",
              "      <td>0.315</td>\n",
              "      <td>0.712</td>\n",
              "      <td>7.9</td>\n",
              "      <td>7.2</td>\n",
              "      <td>1.8</td>\n",
              "      <td>1.1</td>\n",
              "      <td>30.0</td>\n",
              "    </tr>\n",
              "  </tbody>\n",
              "</table>\n",
              "</div>"
            ],
            "text/plain": [
              "   Games played  Games started  ...  Blocks per game  Points per game\n",
              "0          79.0           79.0  ...              0.7             20.9\n",
              "1          80.0           80.0  ...              0.7             27.2\n",
              "2          79.0           79.0  ...              0.8             31.4\n",
              "3          78.0           78.0  ...              0.7             27.3\n",
              "4          75.0           74.0  ...              1.1             30.0\n",
              "\n",
              "[5 rows x 11 columns]"
            ]
          },
          "metadata": {
            "tags": []
          }
        },
        {
          "output_type": "stream",
          "text": [
            "Stephen Curry\n"
          ],
          "name": "stdout"
        },
        {
          "output_type": "display_data",
          "data": {
            "text/html": [
              "<div>\n",
              "<style scoped>\n",
              "    .dataframe tbody tr th:only-of-type {\n",
              "        vertical-align: middle;\n",
              "    }\n",
              "\n",
              "    .dataframe tbody tr th {\n",
              "        vertical-align: top;\n",
              "    }\n",
              "\n",
              "    .dataframe thead th {\n",
              "        text-align: right;\n",
              "    }\n",
              "</style>\n",
              "<table border=\"1\" class=\"dataframe\">\n",
              "  <thead>\n",
              "    <tr style=\"text-align: right;\">\n",
              "      <th></th>\n",
              "      <th>Games played</th>\n",
              "      <th>Games started</th>\n",
              "      <th>Minutes per game</th>\n",
              "      <th>Field goal percentage</th>\n",
              "      <th>3-point field-goal percentage</th>\n",
              "      <th>Free-throw percentage</th>\n",
              "      <th>Rebounds per game</th>\n",
              "      <th>Assists per game</th>\n",
              "      <th>Steals per game</th>\n",
              "      <th>Blocks per game</th>\n",
              "      <th>Points per game</th>\n",
              "    </tr>\n",
              "  </thead>\n",
              "  <tbody>\n",
              "    <tr>\n",
              "      <th>0</th>\n",
              "      <td>80.0</td>\n",
              "      <td>77.0</td>\n",
              "      <td>36.2</td>\n",
              "      <td>0.462</td>\n",
              "      <td>0.437</td>\n",
              "      <td>0.885</td>\n",
              "      <td>4.5</td>\n",
              "      <td>5.9</td>\n",
              "      <td>1.9</td>\n",
              "      <td>0.2</td>\n",
              "      <td>17.5</td>\n",
              "    </tr>\n",
              "    <tr>\n",
              "      <th>1</th>\n",
              "      <td>74.0</td>\n",
              "      <td>74.0</td>\n",
              "      <td>33.6</td>\n",
              "      <td>0.480</td>\n",
              "      <td>0.442</td>\n",
              "      <td>0.934</td>\n",
              "      <td>3.9</td>\n",
              "      <td>5.8</td>\n",
              "      <td>1.5</td>\n",
              "      <td>0.3</td>\n",
              "      <td>18.6</td>\n",
              "    </tr>\n",
              "    <tr>\n",
              "      <th>2</th>\n",
              "      <td>26.0</td>\n",
              "      <td>23.0</td>\n",
              "      <td>28.2</td>\n",
              "      <td>0.490</td>\n",
              "      <td>0.455</td>\n",
              "      <td>0.809</td>\n",
              "      <td>3.4</td>\n",
              "      <td>5.3</td>\n",
              "      <td>1.5</td>\n",
              "      <td>0.3</td>\n",
              "      <td>14.7</td>\n",
              "    </tr>\n",
              "    <tr>\n",
              "      <th>3</th>\n",
              "      <td>78.0</td>\n",
              "      <td>78.0</td>\n",
              "      <td>38.2</td>\n",
              "      <td>0.451</td>\n",
              "      <td>0.453</td>\n",
              "      <td>0.900</td>\n",
              "      <td>4.0</td>\n",
              "      <td>6.9</td>\n",
              "      <td>1.6</td>\n",
              "      <td>0.2</td>\n",
              "      <td>22.9</td>\n",
              "    </tr>\n",
              "    <tr>\n",
              "      <th>4</th>\n",
              "      <td>78.0</td>\n",
              "      <td>78.0</td>\n",
              "      <td>36.5</td>\n",
              "      <td>0.471</td>\n",
              "      <td>0.424</td>\n",
              "      <td>0.885</td>\n",
              "      <td>4.3</td>\n",
              "      <td>8.5</td>\n",
              "      <td>1.6</td>\n",
              "      <td>0.2</td>\n",
              "      <td>24.0</td>\n",
              "    </tr>\n",
              "  </tbody>\n",
              "</table>\n",
              "</div>"
            ],
            "text/plain": [
              "   Games played  Games started  ...  Blocks per game  Points per game\n",
              "0          80.0           77.0  ...              0.2             17.5\n",
              "1          74.0           74.0  ...              0.3             18.6\n",
              "2          26.0           23.0  ...              0.3             14.7\n",
              "3          78.0           78.0  ...              0.2             22.9\n",
              "4          78.0           78.0  ...              0.2             24.0\n",
              "\n",
              "[5 rows x 11 columns]"
            ]
          },
          "metadata": {
            "tags": []
          }
        }
      ]
    },
    {
      "cell_type": "markdown",
      "metadata": {
        "id": "AQdFJC9dN4Ix",
        "colab_type": "text"
      },
      "source": [
        "<h5>For each Player convert the Python Dictionary to a Pandas Dataframe using the constructor <code>pd.DataFrame()</code> </h5>\n",
        "\n"
      ]
    },
    {
      "cell_type": "markdown",
      "metadata": {
        "id": "H6M03FG9N4I1",
        "colab_type": "text"
      },
      "source": [
        "<h5>For each player display the first five columns of the Dataframe, print the name of each Player above the Dataframe.</h5>"
      ]
    },
    {
      "cell_type": "code",
      "metadata": {
        "id": "7aHqhu6qSfYT",
        "colab_type": "code",
        "colab": {}
      },
      "source": [
        "!mkdir 'basketball_data'"
      ],
      "execution_count": 0,
      "outputs": []
    },
    {
      "cell_type": "code",
      "metadata": {
        "id": "L5O-aoAeN4I3",
        "colab_type": "code",
        "colab": {}
      },
      "source": [
        "final_dict['Kobe Bryant'].to_csv(r'basketball_data\\Kobe Bryant.csv')\n",
        "final_dict['Lebron James'].to_csv(r'basketball_data\\Lebron James.csv')\n",
        "final_dict['Michael Jordan'].to_csv(r'basketball_data\\Michael Jordan.csv')\n",
        "final_dict['Stephen Curry'].to_csv(r'basketball_data\\Stephen Curry.csv')"
      ],
      "execution_count": 0,
      "outputs": []
    },
    {
      "cell_type": "markdown",
      "metadata": {
        "id": "6EqPHtPvN4I6",
        "colab_type": "text"
      },
      "source": [
        "#Plot the Points per game for a player using the function plt.plot()"
      ]
    },
    {
      "cell_type": "markdown",
      "metadata": {
        "id": "BnJyRydkN4I8",
        "colab_type": "text"
      },
      "source": [
        "Import the plotting  library "
      ]
    },
    {
      "cell_type": "code",
      "metadata": {
        "id": "lRpcj_wtN4I9",
        "colab_type": "code",
        "colab": {}
      },
      "source": [
        "import matplotlib.pyplot as plt"
      ],
      "execution_count": 0,
      "outputs": []
    },
    {
      "cell_type": "code",
      "metadata": {
        "id": "ESraPi-TN4JB",
        "colab_type": "code",
        "colab": {
          "base_uri": "https://localhost:8080/",
          "height": 279
        },
        "outputId": "a089e0a9-d53e-4d92-8930-a5a7c654d9ab"
      },
      "source": [
        "for name in final_dict:\n",
        "    plt.plot(final_dict[name]['Points per game'],label=name)\n",
        "    plt.legend()\n",
        "    plt.xlabel('years')\n",
        "    plt.ylabel('Points per game')"
      ],
      "execution_count": 10,
      "outputs": [
        {
          "output_type": "display_data",
          "data": {
            "image/png": "iVBORw0KGgoAAAANSUhEUgAAAX4AAAEGCAYAAABiq/5QAAAABHNCSVQICAgIfAhkiAAAAAlwSFlz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\nYowlfmOMiTGW+I0xJsb8fybWrJ5ewsXqAAAAAElFTkSuQmCC\n",
            "text/plain": [
              "<Figure size 432x288 with 1 Axes>"
            ]
          },
          "metadata": {
            "tags": []
          }
        }
      ]
    }
  ]
}
